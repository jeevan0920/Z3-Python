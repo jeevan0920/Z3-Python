{
 "cells": [
  {
   "cell_type": "code",
   "execution_count": 5,
   "metadata": {},
   "outputs": [],
   "source": [
    "from z3 import *"
   ]
  },
  {
   "cell_type": "code",
   "execution_count": 8,
   "metadata": {},
   "outputs": [
    {
     "name": "stdout",
     "output_type": "stream",
     "text": [
      "[y = 9, x = 4]\n"
     ]
    }
   ],
   "source": [
    "x = Int('x')\n",
    "y = Int('y')\n",
    "solve(x > 2, y < 10, x + 2*y == 7)"
   ]
  },
  {
   "cell_type": "code",
   "execution_count": 11,
   "metadata": {},
   "outputs": [
    {
     "name": "stdout",
     "output_type": "stream",
     "text": [
      "3 + 3*x + y\n",
      "Not(y <= -2)\n",
      "And(x >= 2, 2*x**2 + y**2 >= 3)\n"
     ]
    }
   ],
   "source": [
    "#how to use the Z3 formula/expression simplifier. \n",
    "print (simplify(x + y + 2*x + 3))\n",
    "print (simplify(x < y + x + 2))\n",
    "print (simplify(And(x + 1 >= 3, x**2 + x**2 + y**2 + 2 >= 5)))"
   ]
  },
  {
   "cell_type": "code",
   "execution_count": 13,
   "metadata": {},
   "outputs": [
    {
     "name": "stdout",
     "output_type": "stream",
     "text": [
      "x**2 + y**2 >= 1\n",
      "x**2 + y**2 >= 1\n"
     ]
    }
   ],
   "source": [
    "x = Int('x')\n",
    "y = Int('y')\n",
    "print (x**2 + y**2 >= 1)\n",
    "set_option(html_mode=False)\n",
    "print (x**2 + y**2 >= 1)"
   ]
  },
  {
   "cell_type": "code",
   "execution_count": 16,
   "metadata": {},
   "outputs": [
    {
     "name": "stdout",
     "output_type": "stream",
     "text": [
      "num args:  2\n",
      "children:  [x + y, 3]\n",
      "1st child: x + y\n",
      "2nd child: 3\n",
      "operator:  >=\n",
      "op name:   >=\n"
     ]
    }
   ],
   "source": [
    "#Z3 provides functions for traversing expressions.\n",
    "\n",
    "x = Int('x')\n",
    "y = Int('y')\n",
    "n = x + y >= 3\n",
    "print (\"num args: \", n.num_args())\n",
    "print (\"children: \", n.children())\n",
    "print (\"1st child:\", n.arg(0))\n",
    "print (\"2nd child:\", n.arg(1))\n",
    "print (\"operator: \", n.decl())\n",
    "print (\"op name:  \", n.decl().name())\n",
    "\n"
   ]
  },
  {
   "cell_type": "code",
   "execution_count": 17,
   "metadata": {},
   "outputs": [
    {
     "name": "stdout",
     "output_type": "stream",
     "text": [
      "[x = 1/8, y = 2]\n"
     ]
    }
   ],
   "source": [
    "#solving non linear constraints\n",
    "x = Real('x')\n",
    "y = Real('y')\n",
    "solve(x**2 + y**2 > 3, x**3 + y < 5)\n"
   ]
  },
  {
   "cell_type": "code",
   "execution_count": 23,
   "metadata": {},
   "outputs": [
    {
     "name": "stdout",
     "output_type": "stream",
     "text": [
      "[x = 1.2599210498?, y = -1.1885280594?]\n",
      "Solving, and displaying result with 30 decimal places\n",
      "[x = 1.259921049894873164767210607278?,\n",
      " y = -1.188528059421316533710369365015?]\n"
     ]
    }
   ],
   "source": [
    "#displaying in decimal notation\n",
    "x = Real('x')\n",
    "y = Real('y')\n",
    "solve(x**2 + y**2 == 3, x**3 == 2)\n",
    "\n",
    "set_option(precision=30)\n",
    "print (\"Solving, and displaying result with 30 decimal places\")\n",
    "solve(x**2 + y**2 == 3, x**3 == 2)"
   ]
  },
  {
   "cell_type": "code",
   "execution_count": 24,
   "metadata": {},
   "outputs": [
    {
     "name": "stdout",
     "output_type": "stream",
     "text": [
      "0.3333333333333333\n",
      "1/3\n",
      "1/3\n",
      "x + 3333333333333333/10000000000000000\n",
      "x + 1/3\n",
      "x + 1/3\n",
      "x + 1/4\n"
     ]
    }
   ],
   "source": [
    "#rational numbers in Z3\n",
    "print (1/3)          #not Z3 rational number \n",
    "print (RealVal(1)/3) #Z3 rational\n",
    "print (Q(1,3))       #Z3 rational\n",
    "\n",
    "x = Real('x')\n",
    "print (x + 1/3)\n",
    "print (x + Q(1,3))\n",
    "print (x + \"1/3\")\n",
    "print (x + 0.25)\n"
   ]
  },
  {
   "cell_type": "code",
   "execution_count": 25,
   "metadata": {},
   "outputs": [
    {
     "name": "stdout",
     "output_type": "stream",
     "text": [
      "[x = 1/3]\n",
      "[x = 0.333333333333333333333333333333?]\n",
      "[x = 0.333333333333333333333333333333?]\n"
     ]
    }
   ],
   "source": [
    "# Rational numbers can also be displayed in decimal notation.\n",
    "\n",
    "x = Real('x')\n",
    "solve(3*x == 1)\n",
    "\n",
    "set_option(rational_to_decimal=True)\n",
    "solve(3*x == 1)\n",
    "\n",
    "set_option(precision=30)\n",
    "solve(3*x == 1)\n",
    "\n"
   ]
  },
  {
   "cell_type": "code",
   "execution_count": 26,
   "metadata": {},
   "outputs": [
    {
     "name": "stdout",
     "output_type": "stream",
     "text": [
      "no solution\n"
     ]
    }
   ],
   "source": [
    "# A system of constraints may not have a solution. In this case, we say the system is unsatisfiable.\n",
    "\n",
    "x = Real('x')\n",
    "solve(x > 4, x < 0)\n",
    "\n"
   ]
  },
  {
   "cell_type": "markdown",
   "metadata": {},
   "source": [
    "---"
   ]
  },
  {
   "cell_type": "markdown",
   "metadata": {},
   "source": [
    "---"
   ]
  },
  {
   "cell_type": "markdown",
   "metadata": {},
   "source": [
    "# Boolean Logic"
   ]
  },
  {
   "cell_type": "code",
   "execution_count": 29,
   "metadata": {},
   "outputs": [
    {
     "name": "stdout",
     "output_type": "stream",
     "text": [
      "[p = False, q = True, r = False]\n"
     ]
    }
   ],
   "source": [
    "# Z3 supports Boolean operators: And, Or, Not, Implies (implication), If (if-then-else). \n",
    "# Bi-implications are represented using equality ==. \n",
    "# The following example shows how to solve a simple set of Boolean constraints.\n",
    "\n",
    "p = Bool('p')\n",
    "q = Bool('q')\n",
    "r = Bool('r')\n",
    "solve(Implies(p, q), r == Not(q), Or(Not(p), r))\n",
    "\n"
   ]
  },
  {
   "cell_type": "code",
   "execution_count": 31,
   "metadata": {},
   "outputs": [
    {
     "name": "stdout",
     "output_type": "stream",
     "text": [
      "And(p, q, True)\n",
      "And(p, q)\n",
      "False\n"
     ]
    }
   ],
   "source": [
    "# The Python Boolean constants True and False can be used to build Z3 Boolean expressions.\n",
    "\n",
    "p = Bool('p')\n",
    "q = Bool('q')\n",
    "print (And(p, q, True))\n",
    "print (simplify(And(p, q, True)))\n",
    "print (simplify(And(p, False)))\n"
   ]
  },
  {
   "cell_type": "code",
   "execution_count": 32,
   "metadata": {},
   "outputs": [
    {
     "name": "stdout",
     "output_type": "stream",
     "text": [
      "[x = -1.414213562373095048801688724209?, p = False]\n"
     ]
    }
   ],
   "source": [
    "#The following example uses a combination of polynomial and Boolean constraints.\n",
    "\n",
    "p = Bool('p')\n",
    "x = Real('x')\n",
    "solve(Or(x < 5, x > 10), Or(p, x**2 == 2), Not(p))\n"
   ]
  },
  {
   "cell_type": "markdown",
   "metadata": {},
   "source": [
    "---"
   ]
  },
  {
   "cell_type": "markdown",
   "metadata": {},
   "source": [
    "# Solvers"
   ]
  },
  {
   "cell_type": "code",
   "execution_count": 46,
   "metadata": {},
   "outputs": [
    {
     "name": "stdout",
     "output_type": "stream",
     "text": [
      "[]\n",
      "[x > 10, y == x + 2]\n",
      "Solving constraints in the solver s ...\n",
      "sat\n",
      "Create a new scope...\n",
      "[x > 10, y == x + 2, y < 11]\n",
      "Solving updated set of constraints...\n",
      "unsat\n",
      "Restoring state...\n",
      "[x > 10, y == x + 2]\n",
      "Solving restored set of constraints...\n",
      "sat\n"
     ]
    }
   ],
   "source": [
    "# Z3 provides different solvers,  for Eg.  solve in previous examples is implemented using z3 solver API\n",
    "# Basic solver example \n",
    "x = Int('x')\n",
    "y = Int('y')\n",
    "\n",
    "#The command Solver() creates a general purpose solver. \n",
    "s = Solver()\n",
    "print (s)\n",
    "\n",
    "# Constraints can be added using the method add.\n",
    "# We say the constraints have been asserted in the solver. \n",
    "s.add(x > 10, y == x + 2)\n",
    "print (s)\n",
    "\n",
    "# The method check() solves the asserted constraints.\n",
    "print (\"Solving constraints in the solver s ...\")\n",
    "print (s.check())\n",
    "\n",
    "print (\"Create a new scope...\")\n",
    "s.push()\n",
    "s.add(y < 11)\n",
    "print (s)\n",
    "print (\"Solving updated set of constraints...\")\n",
    "print (s.check())\n",
    "\n",
    "print (\"Restoring state...\")\n",
    "s.pop()\n",
    "print (s)\n",
    "print (\"Solving restored set of constraints...\")\n",
    "print (s.check())\n"
   ]
  },
  {
   "cell_type": "code",
   "execution_count": 48,
   "metadata": {},
   "outputs": [
    {
     "name": "stdout",
     "output_type": "stream",
     "text": [
      "unknown\n"
     ]
    }
   ],
   "source": [
    "#The following example shows an example that Z3 cannot solve\n",
    "\n",
    "x = Real('x')\n",
    "s = Solver()\n",
    "s.add(2**x == 3)\n",
    "print (s.check())"
   ]
  },
  {
   "cell_type": "code",
   "execution_count": 52,
   "metadata": {},
   "outputs": [
    {
     "name": "stdout",
     "output_type": "stream",
     "text": [
      "asserted constraints...\n",
      "x > 1\n",
      "y > 1\n",
      "Or(x + y > 3, x - y < 2)\n"
     ]
    }
   ],
   "source": [
    "# traversing the constraints asserted into a solver\n",
    "x = Real('x')\n",
    "y = Real('y')\n",
    "s = Solver()\n",
    "s.add(x > 1, y > 1, Or(x + y > 3, x - y < 2))\n",
    "print (\"asserted constraints...\")\n",
    "for c in s.assertions():\n",
    "    print (c)"
   ]
  },
  {
   "cell_type": "code",
   "execution_count": 53,
   "metadata": {},
   "outputs": [
    {
     "name": "stdout",
     "output_type": "stream",
     "text": [
      "sat\n",
      "statistics for the last check method...\n",
      "(:arith-make-feasible 3\n",
      " :arith-max-columns   8\n",
      " :arith-max-rows      2\n",
      " :arith-rows          12\n",
      " :arith-upper         4\n",
      " :decisions           2\n",
      " :final-checks        1\n",
      " :max-memory          3.16\n",
      " :memory              2.87\n",
      " :mk-bool-var         10\n",
      " :num-allocs          1415119226\n",
      " :num-checks          1\n",
      " :rlimit-count        15075)\n",
      "mk bool var : 1\n",
      "decisions : 2\n",
      "final checks : 1\n",
      "num checks : 1\n",
      "mk bool var : 5\n",
      "arith-upper : 4\n",
      "arith-rows : 12\n",
      "arith-make-feasible : 3\n",
      "arith-max-columns : 8\n",
      "arith-max-rows : 2\n",
      "mk bool var : 1\n",
      "mk bool var : 1\n",
      "mk bool var : 1\n",
      "mk bool var : 1\n",
      "num allocs : 1415119226\n",
      "rlimit count : 15075\n",
      "max memory : 3.16\n",
      "memory : 2.87\n"
     ]
    }
   ],
   "source": [
    "# Collecting performance statistics for the check method. \n",
    "print (s.check())\n",
    "print (\"statistics for the last check method...\")\n",
    "print (s.statistics())\n",
    "# Traversing statistics\n",
    "for k, v in s.statistics():\n",
    "    print (\"%s : %s\" % (k, v))"
   ]
  },
  {
   "cell_type": "markdown",
   "metadata": {},
   "source": [
    "---\n",
    "# Arithmetic"
   ]
  },
  {
   "cell_type": "code",
   "execution_count": 55,
   "metadata": {},
   "outputs": [
    {
     "name": "stdout",
     "output_type": "stream",
     "text": [
      "sat\n",
      "x = 1.5\n",
      "traversing model...\n",
      "z = 0\n",
      "y = 2\n",
      "x = 1.5\n"
     ]
    }
   ],
   "source": [
    "#  A model is an interpretation that makes each asserted constraint true\n",
    "#  The following example shows the basic methods for inspecting models. \n",
    "\n",
    "# Reals('x y z') creates the variables. x, y and z.\n",
    "x, y, z = Reals('x y z')\n",
    "s = Solver()\n",
    "s.add(x > 1, y > 1, x + y > 3, z - x < 10)\n",
    "print (s.check())\n",
    "\n",
    "# The expression m[x] returns the interpretation of x in the model m\n",
    "m = s.model()\n",
    "print (\"x = %s\" % m[x])\n",
    "\n",
    "# The expression \"%s = %s\" % (d.name(), m[d]) returns a string where the first %s is replaced with the name of d (i.e., d.name())\n",
    "# and the second %s with a textual representation of the interpretation of d (i.e., m[d]).\n",
    "print (\"traversing model...\")\n",
    "for d in m.decls():\n",
    "    print (\"%s = %s\" % (d.name(), m[d]))"
   ]
  },
  {
   "cell_type": "code",
   "execution_count": 61,
   "metadata": {},
   "outputs": [
    {
     "name": "stdout",
     "output_type": "stream",
     "text": [
      "x + ToReal(y) + 1 + a + ToReal(s)\n",
      "ToReal(y) + c\n"
     ]
    }
   ],
   "source": [
    "# Z3 supports real and integer variables. They can be mixed in a single problem.\n",
    "# Z3Py will automatically add coercions converting integer expressions to real ones when needed\n",
    "# different ways to declare integer and real variables.\n",
    "x = Real('x')\n",
    "y = Int('y')\n",
    "a, b, c = Reals('a b c')\n",
    "s, r = Ints('s r')\n",
    "print (x + y + 1 + (a + s))\n",
    "\n",
    "#The function ToReal casts an integer expression into a real expression.\n",
    "print (ToReal(y) + c)"
   ]
  },
  {
   "cell_type": "code",
   "execution_count": 62,
   "metadata": {},
   "outputs": [
    {
     "name": "stdout",
     "output_type": "stream",
     "text": [
      "[b = 0, c = 0, e = 0, d = 0, a = 10]\n"
     ]
    }
   ],
   "source": [
    "# Z3Py supports all basic arithmetic operations.\n",
    "a, b, c = Ints('a b c')\n",
    "d, e = Reals('d e')\n",
    "solve(a > b + 2,\n",
    "      a == 2*c + 10,\n",
    "      c + b <= 1000,\n",
    "      d >= e)"
   ]
  },
  {
   "cell_type": "code",
   "execution_count": 70,
   "metadata": {},
   "outputs": [
    {
     "name": "stdout",
     "output_type": "stream",
     "text": [
      "(x + y)**3\n",
      "x*x*x + 3*x*x*y + 3*x*y*y + y*y*y\n",
      "x**3 + 3*x**2*y + 3*x*y**2 + y**3\n"
     ]
    }
   ],
   "source": [
    "# The command simplify applies simple transformations on Z3 expressions.\n",
    "x, y = Reals('x y')\n",
    "# Put expression in sum-of-monomials form\n",
    "t = simplify((x + y)**3)\n",
    "print (t)\n",
    "t = simplify((x + y)**3, som=True)\n",
    "print (t)\n",
    "\n",
    "# Use power operator\n",
    "t = simplify(t, mul_to_power=True)\n",
    "print (t)\n"
   ]
  },
  {
   "cell_type": "code",
   "execution_count": 77,
   "metadata": {},
   "outputs": [
    {
     "name": "stdout",
     "output_type": "stream",
     "text": [
      "x + -1*y == 2\n",
      "x + -1*y == 2\n",
      "\n",
      "All available options:\n",
      "algebraic_number_evaluator (bool) simplify/evaluate expressions containing (algebraic) irrational numbers. (default: true)\n",
      "arith_ineq_lhs (bool) rewrite inequalities so that right-hand-side is a constant. (default: false)\n",
      "arith_lhs (bool) all monomials are moved to the left-hand-side, and the right-hand-side is just a constant. (default: false)\n",
      "bit2bool (bool) try to convert bit-vector terms of size 1 into Boolean terms (default: true)\n",
      "blast_distinct (bool) expand a distinct predicate into a quadratic number of disequalities (default: false)\n",
      "blast_distinct_threshold (unsigned int) when blast_distinct is true, only distinct expressions with less than this number of arguments are blasted (default: 4294967295)\n",
      "blast_eq_value (bool) blast (some) Bit-vector equalities into bits (default: false)\n",
      "bv_extract_prop (bool) attempt to partially propagate extraction inwards (default: false)\n",
      "bv_ineq_consistency_test_max (unsigned int) max size of conjunctions on which to perform consistency test based on inequalities on bitvectors. (default: 0)\n",
      "bv_ite2id (bool) rewrite ite that can be simplified to identity (default: false)\n",
      "bv_le_extra (bool) additional bu_(u/s)le simplifications (default: false)\n",
      "bv_not_simpl (bool) apply simplifications for bvnot (default: false)\n",
      "bv_sort_ac (bool) sort the arguments of all AC operators (default: false)\n",
      "bv_trailing (bool) lean removal of trailing zeros (default: false)\n",
      "bv_urem_simpl (bool) additional simplification for bvurem (default: false)\n",
      "bvnot2arith (bool) replace (bvnot x) with (bvsub -1 x) (default: false)\n",
      "cache_all (bool) cache all intermediate results. (default: false)\n",
      "elim_and (bool) conjunctions are rewritten using negation and disjunctions (default: false)\n",
      "elim_rem (bool) replace (rem x y) with (ite (>= y 0) (mod x y) (- (mod x y))). (default: false)\n",
      "elim_sign_ext (bool) expand sign-ext operator using concat and extract (default: true)\n",
      "elim_to_real (bool) eliminate to_real from arithmetic predicates that contain only integers. (default: false)\n",
      "eq2ineq (bool) expand equalities into two inequalities (default: false)\n",
      "expand_power (bool) expand (^ t k) into (* t ... t) if  1 < k <= max_degree. (default: false)\n",
      "expand_select_store (bool) replace a (select (store ...) ...) term by an if-then-else term (default: false)\n",
      "expand_store_eq (bool) reduce (store ...) = (store ...) with a common base into selects (default: false)\n",
      "expand_tan (bool) replace (tan x) with (/ (sin x) (cos x)). (default: false)\n",
      "flat (bool) create nary applications for and,or,+,*,bvadd,bvmul,bvand,bvor,bvxor (default: true)\n",
      "gcd_rounding (bool) use gcd rounding on integer arithmetic atoms. (default: false)\n",
      "hi_div0 (bool) use the 'hardware interpretation' for division by zero (for bit-vector terms) (default: true)\n",
      "hoist_cmul (bool) hoist constant multiplication over summation to minimize number of multiplications (default: false)\n",
      "hoist_mul (bool) hoist multiplication over summation to minimize number of multiplications (default: false)\n",
      "ignore_patterns_on_ground_qbody (bool) ignores patterns on quantifiers that don't mention their bound variables. (default: true)\n",
      "ite_extra_rules (bool) extra ite simplifications, these additional simplifications may reduce size locally but increase globally (default: false)\n",
      "local_ctx (bool) perform local (i.e., cheap) context simplifications (default: false)\n",
      "local_ctx_limit (unsigned int) limit for applying local context simplifier (default: 4294967295)\n",
      "max_degree (unsigned int) max degree of algebraic numbers (and power operators) processed by simplifier. (default: 64)\n",
      "max_memory (unsigned int) maximum amount of memory in megabytes (default: 4294967295)\n",
      "max_steps (unsigned int) maximum number of steps (default: 4294967295)\n",
      "mul2concat (bool) replace multiplication by a power of two into a concatenation (default: false)\n",
      "mul_to_power (bool) collpase (* t ... t) into (^ t k), it is ignored if expand_power is true. (default: false)\n",
      "pull_cheap_ite (bool) pull if-then-else terms when cheap. (default: false)\n",
      "push_ite_arith (bool) push if-then-else over arithmetic terms. (default: false)\n",
      "push_ite_bv (bool) push if-then-else over bit-vector terms. (default: false)\n",
      "push_to_real (bool) distribute to_real over * and +. (default: true)\n",
      "rewrite_patterns (bool) rewrite patterns. (default: false)\n",
      "som (bool) put polynomials in som-of-monomials form (default: false)\n",
      "som_blowup (unsigned int) maximum number of monomials generated when putting a polynomial in sum-of-monomials normal form (default: 4294967295)\n",
      "sort_store (bool) sort nested stores when the indices are known to be different (default: false)\n",
      "sort_sums (bool) sort the arguments of + application. (default: false)\n",
      "split_concat_eq (bool) split equalities of the form (= (concat t1 t2) t3) (default: false)\n",
      "udiv2mul (bool) convert constant udiv to mul (default: false)\n",
      "\n"
     ]
    }
   ],
   "source": [
    "#Z3Py allows users to write option in two styles.\n",
    "\n",
    "# 1  The Z3 internal option names start with : and words are separated by -\n",
    "x, y = Reals('x y')\n",
    "# Using Z3 native option names\n",
    "print (simplify(x == y + 2, ':arith-lhs', True))\n",
    "\n",
    "# 2 Z3Py also supports Python-like names, where : is suppressed and - is replaced with _\n",
    "# Using Z3Py option names\n",
    "print (simplify(x == y + 2, arith_lhs=True))\n",
    "\n",
    "# command help_simplify() prints all available options\n",
    "print (\"\\nAll available options:\")\n",
    "help_simplify()\n"
   ]
  },
  {
   "cell_type": "markdown",
   "metadata": {},
   "source": [
    "---"
   ]
  },
  {
   "cell_type": "markdown",
   "metadata": {},
   "source": [
    "# Functions"
   ]
  },
  {
   "cell_type": "code",
   "execution_count": 82,
   "metadata": {},
   "outputs": [
    {
     "name": "stdout",
     "output_type": "stream",
     "text": [
      "[x = 0, y = 1, f = [1 -> 0, else -> 1]]\n",
      "sat\n",
      "f(f(x)) = 0\n",
      "f(x)    = 1\n"
     ]
    }
   ],
   "source": [
    "# function and constant symbols in pure first-order logic are uninterpreted or free\n",
    "#  f applied twice to x results in x again, but f applied once to x is different from x.\n",
    "x = Int('x')\n",
    "y = Int('y')\n",
    "f = Function('f', IntSort(), IntSort())\n",
    "solve(f(f(x)) == x, f(x) == y, x != y)\n",
    "# The solution (interpretation) for f should be read as f(0) is 1, f(1) is 0, and f(a) is 1 for all a different from 0 and 1. \n",
    "\n",
    "#  we can also evaluate expressions in the model for a system of constraints. \n",
    "s = Solver()\n",
    "s.add(f(f(x)) == x, f(x) == y, x != y)\n",
    "print (s.check())\n",
    "m = s.model()\n",
    "print (\"f(f(x)) =\", m.evaluate(f(f(x))))\n",
    "print (\"f(x)    =\", m.evaluate(f(x)))"
   ]
  },
  {
   "cell_type": "markdown",
   "metadata": {},
   "source": [
    "---\n",
    "# Satisfiability and Validity"
   ]
  },
  {
   "cell_type": "code",
   "execution_count": 88,
   "metadata": {},
   "outputs": [
    {
     "name": "stdout",
     "output_type": "stream",
     "text": [
      "And(p, q) == Not(Or(Not(p), Not(q)))\n",
      "Proving demorgan...\n",
      "proved\n"
     ]
    }
   ],
   "source": [
    "# The following example redefines the Z3Py function 'prove' that receives a formula as a parameter.\n",
    "# This function creates a solver, adds/asserts the negation of the formula, and check if the negation is unsatisfiable\n",
    "\n",
    "p, q = Bools('p q')\n",
    "demorgan = And(p, q) == Not(Or(Not(p), Not(q)))\n",
    "print (demorgan)\n",
    "\n",
    "def prove(f):\n",
    "    s = Solver()\n",
    "    s.add(Not(f))\n",
    "    if s.check() == unsat:\n",
    "        print (\"proved\")\n",
    "    else:\n",
    "        print (\"failed to prove\")\n",
    "\n",
    "print (\"Proving demorgan...\")\n",
    "prove(demorgan)\n",
    "\n"
   ]
  },
  {
   "cell_type": "markdown",
   "metadata": {},
   "source": [
    "---\n",
    "# List Comprehensions"
   ]
  },
  {
   "cell_type": "code",
   "execution_count": 146,
   "metadata": {},
   "outputs": [
    {
     "name": "stdout",
     "output_type": "stream",
     "text": [
      "[1, 2, 3, 4, 5]\n",
      "[x0, x1, x2, x3, x4]\n",
      "<class 'z3.z3.ArithRef'>\n",
      "[y0, y1, y2, y3, y4]\n",
      "[x0 + y0, x1 + y1, x2 + y2, x3 + y3, x4 + y4]\n",
      "[x0 > y0, x1 > y1, x2 > y2, x3 > y3, x4 > y4]\n",
      "And(x0 > y0, x1 > y1, x2 > y2, x3 > y3, x4 > y4)\n",
      "[[x_1_1, x_1_2, x_1_3],\n",
      " [x_2_1, x_2_2, x_2_3],\n",
      " [x_3_1, x_3_2, x_3_3]]\n",
      "[x__0, x__1, x__2, x__3, x__4]\n",
      "[y__0, y__1, y__2, y__3, y__4]\n",
      "[p__0, p__1, p__2, p__3, p__4]\n",
      "[y__0**2, y__1**2, y__2**2, y__3**2, y__4**2]\n",
      "y__0**2 + y__1**2 + y__2**2 + y__3**2 + y__4**2\n"
     ]
    }
   ],
   "source": [
    "#  They can be used to create Z3 expressions and problems in Z3Py.\n",
    "#  The following example demonstrates how to use Python list comprehensions in Z3Py.\n",
    "#  Create list [1, ..., 5] \n",
    "print ([ x + 1 for x in range(5) ])\n",
    "# Create two lists containing 5 integer variables\n",
    "X = [ Int('x%s' % i) for i in range(5) ]\n",
    "Y = [ Int('y%s' % i) for i in range(5) ]\n",
    "print (X)\n",
    "print (Y)\n",
    "# Create a list containing X[i]+Y[i]\n",
    "X_plus_Y = [ X[i] + Y[i] for i in range(5) ]\n",
    "print (X_plus_Y)\n",
    "# # Create a list containing X[i] > Y[i]\n",
    "X_gt_Y = [ X[i] > Y[i] for i in range(5) ]\n",
    "print (X_gt_Y)\n",
    "\n",
    "print (And(X_gt_Y))\n",
    "\n",
    "# Create a 3x3 \"matrix\" (list of lists) of integer variables\n",
    "X = [ [ Int(\"x_%s_%s\" % (i+1, j+1)) for j in range(3) ]\n",
    "      for i in range(3) ]\n",
    "pp(X) # pp is similar to print, but it uses Z3Py formatter for lists and tuples instead of Python's formatter.\n",
    "\n",
    "# Z3Py also provides functions for creating vectors of Boolean, Integer and Real variables. These functions are implemented using list comprehensions.\n",
    "X = IntVector('x', 5)\n",
    "Y = RealVector('y', 5)\n",
    "P = BoolVector('p', 5)\n",
    "print (X)\n",
    "print (Y)\n",
    "print (P)\n",
    "print ([ y**2 for y in Y ])\n",
    "print (Sum([ y**2 for y in Y ]))\n"
   ]
  },
  {
   "cell_type": "markdown",
   "metadata": {},
   "source": [
    "---\n",
    "# Exercises"
   ]
  },
  {
   "cell_type": "code",
   "execution_count": 99,
   "metadata": {},
   "outputs": [
    {
     "name": "stdout",
     "output_type": "stream",
     "text": [
      "Kinematic equations:\n",
      "[d == v__i*t + (a*t**2)/2, v__f == v__i + a*t]\n",
      "Problem:\n",
      "[v__i == 30, v__f == 0, a == -8]\n",
      "Solution:\n",
      "[a = -8, v__f = 0, v__i = 30, t = 3.75, d = 56.25]\n",
      "Kinematic equations:\n",
      "[d == v__i*t + (a*t**2)/2, v__f == v__i + a*t]\n",
      "Problem \n",
      "[v__i == 0, t == 4.1, a == 6]\n",
      "Solution\n",
      "[a = 6, t = 4.1, v__i = 0, v__f = 24.6, d = 50.43]\n"
     ]
    }
   ],
   "source": [
    "# Kinematic Equations\n",
    "# In high school, students learn the kinematic equations. \n",
    "# These equations describe the mathematical relationship between displacement (d), time (t), acceleration (a), initial velocity (v_i) and final velocity (v_f).\n",
    "# In Z3Py notation, we can write these equations as : d == v_i * t + (a*t**2)/2,v_f == v_i + a*t\n",
    "\n",
    "# Problem 1\n",
    "# Ima Hurryin is approaching a stoplight moving with a velocity of 30.0 m/s.\n",
    "# The light turns yellow, and Ima applies the brakes and skids to a stop.\n",
    "# If Ima's acceleration is -8.00 m/s2, then determine the displacement of the car during the skidding process.\n",
    "d, a, t, v_i, v_f = Reals('d a t v__i v__f')\n",
    "equations = [\n",
    "   d == v_i * t + (a*t**2)/2,\n",
    "   v_f == v_i + a*t,\n",
    "]\n",
    "print (\"Kinematic equations:\")\n",
    "print (equations)\n",
    "# Given v_i, v_f and a, find d\n",
    "problem = [\n",
    "    v_i == 30,\n",
    "    v_f == 0,\n",
    "    a   == -8\n",
    "]\n",
    "print (\"Problem:\")\n",
    "print (problem)\n",
    "print (\"Solution:\")\n",
    "solve(equations + problem)\n",
    "\n",
    "# Problem 2\n",
    "# Ben Rushin is waiting at a stoplight. When it finally turns green,\n",
    "# Ben accelerated from rest at a rate of a 6.00 m/s2 for a time of 4.10 seconds.\n",
    "# Determine the displacement of Ben's car during this time period. \n",
    "\n",
    "\n",
    "equations = [\n",
    "   d == v_i * t + (a*t**2)/2,\n",
    "   v_f == v_i + a*t,\n",
    "]\n",
    "print (\"Kinematic equations:\")\n",
    "print (equations)\n",
    "problem = [\n",
    "    v_i == 0,\n",
    "    t == 4.10,\n",
    "    a == 6.00\n",
    "]\n",
    "# given a , t , v_i  find d\n",
    "\n",
    "print(\"Problem \")\n",
    "print(problem)\n",
    "print(\"Solution\")\n",
    "solve(equations+problem)\n",
    "\n"
   ]
  },
  {
   "cell_type": "markdown",
   "metadata": {},
   "source": [
    "---\n",
    "# Puzzles"
   ]
  },
  {
   "cell_type": "markdown",
   "metadata": {},
   "source": [
    "## Dog, Cat and Mouse"
   ]
  },
  {
   "cell_type": "code",
   "execution_count": 119,
   "metadata": {},
   "outputs": [
    {
     "name": "stdout",
     "output_type": "stream",
     "text": [
      "[cat = 41, mouse = 56, dog = 3]\n"
     ]
    }
   ],
   "source": [
    "# Spend exactly 100 dollars and buy exactly 100 animals. \n",
    "# Dogs cost 15 dollars, cats cost 1 dollar, and mice cost 25 cents each.\n",
    "# You have to buy at least one of each. How many of each should you buy? \n",
    "\n",
    "# Create 3 integer variables\n",
    "dog, cat, mouse = Ints('dog cat mouse')\n",
    "solve(dog >= 1,   # at least one dog\n",
    "      cat >= 1,   # at least one cat\n",
    "      mouse >= 1, # at least one mouse\n",
    "      # we want to buy 100 animals\n",
    "      dog + cat + mouse == 100,\n",
    "      # We have 100 dollars (10000 cents):\n",
    "      #   dogs cost 15 dollars (1500 cents), \n",
    "      #   cats cost 1 dollar (100 cents), and \n",
    "      #   mice cost 25 cents \n",
    "      1500 * dog + 100 * cat + 25 * mouse == 10000)"
   ]
  },
  {
   "cell_type": "markdown",
   "metadata": {},
   "source": [
    "## Sudoku"
   ]
  },
  {
   "cell_type": "code",
   "execution_count": 365,
   "metadata": {},
   "outputs": [
    {
     "name": "stdout",
     "output_type": "stream",
     "text": [
      "[[7, 1, 5, 8, 9, 4, 6, 3, 2],\n",
      " [2, 3, 4, 5, 1, 6, 8, 9, 7],\n",
      " [6, 8, 9, 7, 2, 3, 1, 4, 5],\n",
      " [4, 9, 3, 6, 5, 7, 2, 1, 8],\n",
      " [8, 6, 7, 2, 3, 1, 9, 5, 4],\n",
      " [1, 5, 2, 4, 8, 9, 7, 6, 3],\n",
      " [3, 7, 6, 1, 4, 8, 5, 2, 9],\n",
      " [9, 2, 8, 3, 6, 5, 4, 7, 1],\n",
      " [5, 4, 1, 9, 7, 2, 3, 8, 6]]\n"
     ]
    }
   ],
   "source": [
    "\n",
    "\n",
    "# 9x9 matrix of integer variables\n",
    "X = [ [ Int(\"x_%s_%s\" % (i+1, j+1)) for j in range(9) ]\n",
    "      for i in range(9) ]\n",
    "\n",
    "# each cell contains a value in {1, ..., 9}\n",
    "cells_c  = [ And(1 <= X[i][j], X[i][j] <= 9)\n",
    "             for i in range(9) for j in range(9) ]\n",
    "\n",
    "# each row contains a digit at most once\n",
    "rows_c   = [ Distinct(X[i]) for i in range(9) ]\n",
    "\n",
    "\n",
    "\n",
    "# each column contains a digit at most once\n",
    "cols_c   = [ Distinct([ X[i][j] for i in range(9) ])\n",
    "             for j in range(9) ]\n",
    "\n",
    "\n",
    "\n",
    "# each 3x3 square contains a digit at most once\n",
    "sq_c     = [ Distinct([ X[3*i0 + i][3*j0 + j]\n",
    "                        for i in range(3) for j in range(3) ])\n",
    "             for i0 in range(3) for j0 in range(3) ]\n",
    "\n",
    "sudoku_c = cells_c + rows_c + cols_c + sq_c\n",
    "\n",
    "\n",
    "# sudoku instance, we use '0' for empty cells\n",
    "instance = ((0,0,0,0,9,4,0,3,0),\n",
    "            (0,0,0,5,1,0,0,0,7),\n",
    "            (0,8,9,0,0,0,0,4,0),\n",
    "            (0,0,0,0,0,0,2,0,8),\n",
    "            (0,6,0,2,0,1,0,5,0),\n",
    "            (1,0,2,0,0,0,0,0,0),\n",
    "            (0,7,0,0,0,0,5,2,0),\n",
    "            (9,0,0,0,6,5,0,0,0),\n",
    "            (0,4,0,9,7,0,0,0,0))\n",
    "\n",
    "def instance_c_generator(instance):\n",
    "    return [ If(instance[i][j] == 0,\n",
    "                  True,\n",
    "                  X[i][j] == instance[i][j])\n",
    "               for i in range(9) for j in range(9) ]\n",
    "\n",
    "instance_c = instance_c_generator(instance)\n",
    "\n",
    "\n",
    "s = Solver()\n",
    "s.add(sudoku_c + instance_c)\n",
    "if s.check() == sat:\n",
    "    m = s.model()\n",
    "    r = [ [ m.evaluate(X[i][j]) for j in range(9) ]\n",
    "          for i in range(9) ]\n",
    "    print_matrix(r)\n",
    "else:\n",
    "    print (\"failed to solve\")\n",
    "\n"
   ]
  },
  {
   "cell_type": "code",
   "execution_count": 347,
   "metadata": {},
   "outputs": [],
   "source": [
    "import random\n",
    "row_ind = [1,2,3,4,5,6,7,8,0]\n",
    "col_ind = [1,2,3,4,5,6,7,8,0]\n",
    "shuffle(row_ind)\n",
    "shuffle(col_ind)"
   ]
  },
  {
   "cell_type": "code",
   "execution_count": 366,
   "metadata": {},
   "outputs": [
    {
     "name": "stdout",
     "output_type": "stream",
     "text": [
      "[[0, 0, 5, 0, 0, 0, 0, 3, 0],\n",
      " [2, 3, 4, 5, 1, 0, 0, 0, 0],\n",
      " [0, 8, 0, 0, 0, 0, 0, 4, 0],\n",
      " [0, 9, 0, 0, 0, 7, 0, 0, 0],\n",
      " [0, 0, 7, 0, 0, 0, 9, 5, 4],\n",
      " [0, 0, 0, 4, 0, 0, 0, 0, 3],\n",
      " [0, 0, 0, 0, 0, 8, 0, 0, 9],\n",
      " [0, 2, 8, 0, 6, 0, 0, 0, 0],\n",
      " [5, 4, 0, 9, 0, 2, 0, 0, 0]]\n"
     ]
    }
   ],
   "source": [
    "# Hardest Puzzle\n",
    "ind = [0]*81\n",
    "prev = -1 # for storing the last element\n",
    "sat_found = False # for breaking the loops\n",
    "s.reset() # remove all the constraints\n",
    "s.add(sudoku_c)  # adding sudoku constraints ie. rows, cols and sub-matrix\n",
    "negative_constraints = []\n",
    "to_visit = 81 # number of elements to be visited\n",
    "while(to_visit != 0):\n",
    "    while (True) :\n",
    "        num = random.randint(0,80)\n",
    "        if(ind[num] == 0):\n",
    "            break\n",
    "    ind[num] = 1 #index is used\n",
    "    i = int(num / 9)\n",
    "    j = num % 9\n",
    "    \n",
    "    prev =  r[i][j] \n",
    "    r[i][j] = 0\n",
    "    s.push() # for adding all negative constraints\n",
    "    negative_constraints = negative_constraints + [ Not(X[i][j] == prev)]\n",
    "    s.add([Or(negative_constraints)])\n",
    "    s.push() # for adding the updated matrix elements\n",
    "    s.add(instance_c_generator(r))\n",
    "    #print(\"%d,%d\" %(i,j))\n",
    "    #print(s.check())\n",
    "    if(s.check() == sat):\n",
    "        r[i][j] = prev # restore the last element\n",
    "        sat_found = True\n",
    "    s.pop() # removing all negative constraints\n",
    "    s.pop() # for removing last matrix\n",
    "    to_visit = to_visit - 1 #update visited elements count\n",
    "print_matrix(r)"
   ]
  },
  {
   "cell_type": "code",
   "execution_count": 367,
   "metadata": {},
   "outputs": [
    {
     "name": "stdout",
     "output_type": "stream",
     "text": [
      "[[7, 1, 5, 8, 9, 4, 6, 3, 2],\n",
      " [2, 3, 4, 5, 1, 6, 8, 9, 7],\n",
      " [6, 8, 9, 7, 2, 3, 1, 4, 5],\n",
      " [4, 9, 3, 6, 5, 7, 2, 1, 8],\n",
      " [8, 6, 7, 2, 3, 1, 9, 5, 4],\n",
      " [1, 5, 2, 4, 8, 9, 7, 6, 3],\n",
      " [3, 7, 6, 1, 4, 8, 5, 2, 9],\n",
      " [9, 2, 8, 3, 6, 5, 4, 7, 1],\n",
      " [5, 4, 1, 9, 7, 2, 3, 8, 6]]\n"
     ]
    }
   ],
   "source": [
    "#Testing the created Sudoku\n",
    "s.reset()\n",
    "s.add(sudoku_c + instance_c_generator(r))\n",
    "if s.check() == sat:\n",
    "    m = s.model()\n",
    "    r = [ [ m.evaluate(X[i][j]) for j in range(9) ]\n",
    "          for i in range(9) ]\n",
    "    print_matrix(r)\n",
    "else:\n",
    "    print (\"failed to solve\")"
   ]
  },
  {
   "cell_type": "code",
   "execution_count": 277,
   "metadata": {},
   "outputs": [
    {
     "name": "stdout",
     "output_type": "stream",
     "text": [
      "unsat\n",
      "unsat\n",
      "unsat\n",
      "unsat\n",
      "unsat\n",
      "unsat\n",
      "unsat\n",
      "unsat\n",
      "unsat\n",
      "unsat\n",
      "unsat\n",
      "unsat\n",
      "unsat\n",
      "unsat\n",
      "unsat\n",
      "unsat\n",
      "unsat\n",
      "unsat\n",
      "unsat\n",
      "unsat\n",
      "unsat\n",
      "unsat\n",
      "unsat\n",
      "unsat\n",
      "unsat\n",
      "unsat\n",
      "unsat\n",
      "unsat\n",
      "unsat\n",
      "unsat\n",
      "unsat\n",
      "unsat\n",
      "unsat\n",
      "unsat\n",
      "unsat\n",
      "sat\n"
     ]
    }
   ],
   "source": [
    "#Older sudoku generator\n",
    "prev = -1\n",
    "final_r = r\n",
    "sat_found = False\n",
    "constraints = sudoku_c\n",
    "negative_constraints = []\n",
    "for i in row_ind:\n",
    "    for j in col_ind:\n",
    "        prev =  r[i][j] \n",
    "        r[i][j] = 0\n",
    "        s.reset()\n",
    "        negative_constraints = negative_constraints +  [ Not(X[i][j] == prev)] \n",
    "        s.add(negative_constraints + sudoku_c +   instance_c_generator(r))\n",
    "        print(s.check())\n",
    "        if(s.check() == sat):\n",
    "            r[i][j] = prev\n",
    "            negative_constraints.pop()\n",
    "            sat_found = True\n",
    "            break\n",
    "    if(sat_found):\n",
    "        break"
   ]
  }
 ],
 "metadata": {
  "kernelspec": {
   "display_name": "Python 2",
   "language": "python",
   "name": "python2"
  },
  "language_info": {
   "codemirror_mode": {
    "name": "ipython",
    "version": 3
   },
   "file_extension": ".py",
   "mimetype": "text/x-python",
   "name": "python",
   "nbconvert_exporter": "python",
   "pygments_lexer": "ipython3",
   "version": "3.6.7"
  }
 },
 "nbformat": 4,
 "nbformat_minor": 2
}
